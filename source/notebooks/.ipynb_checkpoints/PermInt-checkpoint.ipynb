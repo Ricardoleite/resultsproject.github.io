{
 "cells": [
  {
   "cell_type": "markdown",
   "id": "a9da9e99",
   "metadata": {},
   "source": [
    "# Intrinsic Permeability"
   ]
  },
  {
   "cell_type": "markdown",
   "id": "1e9e217c",
   "metadata": {},
   "source": [
    "## Micromodels\n",
    "\n",
    "\n",
    "Na experimentação de meios porosos os avanços na geração de micromodelos possibilitam a representação de diferentes tipos de rochas com micro e macro porosidades. Contudo, devido às suas características de fabricação, os micromodelos permitem apenas aproximações bidimensionais dos comportamentos de poros e conectivades presentes na estrutural da rocha.  \n",
    "\n",
    "Na presente Seção 4 casos verificação para permeabilidade intrínsica dos micromodelos são simulados utilizando a rotina de simulação de permeabilidade do LBPM. Os casos M1, M2, M3 e M4 foram simulados e comparados com os resultados experimentais de Wolf et al. \n",
    "\n",
    "<table>\n",
    "<thead>\n",
    "  <tr>\n",
    "    <th style=\"font-size:19px;text-align: center\">M1</th>\n",
    "    <th style=\"font-size:19px;text-align: center\">M2</th>\n",
    "    <th style=\"font-size:19px;text-align: center\">M3</th>\n",
    "    <th style=\"font-size:19px;text-align: center\">M4</th>\n",
    "  </tr>\n",
    "</thead>\n",
    "<tbody>\n",
    "  <tr>\n",
    "    <td><img src=\"M1-P.png\" width=\"200\" height=\"200\"/></td>\n",
    "    <td><img src=\"M2-P.png\" width=\"200\" height=\"200\"/></td>\n",
    "    <td><img src=\"M3-P.png\" width=\"200\" height=\"200\"/></td>\n",
    "    <td><img src=\"M4-P.png\" width=\"200\" height=\"200\"/></td>\n",
    "  </tr>\n",
    "</tbody>\n",
    "</table>\n",
    "\n",
    "\n",
    "* Modelo M1 consiste de um meio poroso quadrado de 25 x 25 mm com macro porosiade de XX%"
   ]
  },
  {
   "cell_type": "markdown",
   "id": "1ee851a6",
   "metadata": {},
   "source": [
    "### Arquivo de Entrada"
   ]
  },
  {
   "cell_type": "markdown",
   "id": "b9ea6347",
   "metadata": {},
   "source": [
    "```c\n",
    "   MRT {\n",
    "      tau = 1.0\n",
    "      F = 0.0, 0.0, 1.0e-5\n",
    "      timestepMax = 2000\n",
    "      tolerance = 0.01\n",
    "   }\n",
    "   Domain {\n",
    "      Filename = \"Bentheimer_LB_sim_intermediate_oil_wet_Sw_0p37.raw\"  \n",
    "      ReadType = \"8bit\"      // data type\n",
    "      N = 900, 900, 1600     // size of original image\n",
    "      nproc = 2, 2, 2        // process grid\n",
    "      n = 200, 200, 200      // sub-domain size\n",
    "      offset = 300, 300, 300 // offset to read sub-domain\n",
    "      voxel_length = 1.66    // voxel length (in microns)\n",
    "      ReadValues = 0, 1, 2   // labels within the original image\n",
    "      WriteValues = 0, 1, 2  // associated labels to be used by LBPM\n",
    "      InletLayers = 0, 0, 10 // specify 10 layers along the z-inlet\n",
    "      BC = 0                 // boundary condition type (0 for periodic)\n",
    "   }\n",
    "   Visualization {\n",
    "   }\n",
    "```"
   ]
  },
  {
   "cell_type": "markdown",
   "id": "e6473f9d",
   "metadata": {},
   "source": [
    "As imagens *.raw do cada caso estão disponibilizada em (XX). As imagens possuem dimensão de 10x5880x5880 (x,y,z) onde os planos (0,y,z) e (9,y,z) descrevem as paredes sólidas do micromodelo."
   ]
  },
  {
   "cell_type": "markdown",
   "id": "716c5647",
   "metadata": {},
   "source": [
    "## Resultados\n",
    "\n",
    "Os campo de magnitude de velocidade obtido para cada caso pode ser na Figura abaixo."
   ]
  },
  {
   "cell_type": "markdown",
   "id": "33a155db",
   "metadata": {},
   "source": [
    "$$\n",
    "\\begin{aligned}[]\n",
    "\\text {Table -Porosity and permeability calculations for the analyzed micromodels. }\\\\\n",
    "\\begin{array}{ccccccc}\n",
    "\\hline\n",
    "Model & \\phi_{dig}[\\%] & \\phi_{exp}[\\%] & Error[\\%] & k[Darcy]  & k_{LBPM}[Darcy] & Error[\\%] \\\\ \\hline\n",
    "M1    & 27.3             & 27.2(0.1)        & −0.1        & 8.91(0.03)  &    7.44    &     16.49    \\\\ \n",
    "M2    & 40.2             & 39.7(0.2)        & −1.2        & 13.24(0.44) &   13.30     &    0.45     \\\\ \n",
    "M3    & 33.6             & 34.7(0.3)        & 3.4         & 5.74(0.01)  &    5.78     &    0.69      \\\\ \n",
    "M4    & 36.7             & 36.4(0.2)        & −0.7        & 5.71(1.25)  &    3.42     &    40,1     \\\\ \\hline\n",
    "\\end{array}\n",
    "\\end{aligned}\n",
    "$$"
   ]
  },
  {
   "cell_type": "markdown",
   "id": "956cf257",
   "metadata": {},
   "source": [
    "<table>\n",
    "<thead>\n",
    "  <tr>\n",
    "    <th style=\"font-size:23px;text-align: center\">M1</th>\n",
    "    <th style=\"font-size:23px;text-align: center\">M2</th>\n",
    "    <th style=\"font-size:23px;text-align: center\">M3</th>\n",
    "    <th style=\"font-size:23px;text-align: center\">M4</th>\n",
    "  </tr>\n",
    "</thead>\n",
    "<tbody>\n",
    "  <tr>\n",
    "    <td><img src=\"M1-R.png\" width=\"200\" height=\"200\"/></td>\n",
    "    <td><img src=\"M2-R.png\" width=\"200\" height=\"200\"/></td>\n",
    "    <td><img src=\"M3-R.png\" width=\"200\" height=\"200\"/></td>\n",
    "    <td><img src=\"M4-R.png\" width=\"200\" height=\"200\"/></td>\n",
    "  </tr>\n",
    "</tbody>\n",
    "</table>"
   ]
  },
  {
   "cell_type": "code",
   "execution_count": null,
   "id": "4feab27b",
   "metadata": {},
   "outputs": [],
   "source": []
  }
 ],
 "metadata": {
  "kernelspec": {
   "display_name": "Python 3 (ipykernel)",
   "language": "python",
   "name": "python3"
  },
  "language_info": {
   "codemirror_mode": {
    "name": "ipython",
    "version": 3
   },
   "file_extension": ".py",
   "mimetype": "text/x-python",
   "name": "python",
   "nbconvert_exporter": "python",
   "pygments_lexer": "ipython3",
   "version": "3.10.6"
  },
  "varInspector": {
   "cols": {
    "lenName": 16,
    "lenType": 16,
    "lenVar": 40
   },
   "kernels_config": {
    "python": {
     "delete_cmd_postfix": "",
     "delete_cmd_prefix": "del ",
     "library": "var_list.py",
     "varRefreshCmd": "print(var_dic_list())"
    },
    "r": {
     "delete_cmd_postfix": ") ",
     "delete_cmd_prefix": "rm(",
     "library": "var_list.r",
     "varRefreshCmd": "cat(var_dic_list()) "
    }
   },
   "types_to_exclude": [
    "module",
    "function",
    "builtin_function_or_method",
    "instance",
    "_Feature"
   ],
   "window_display": false
  }
 },
 "nbformat": 4,
 "nbformat_minor": 5
}
