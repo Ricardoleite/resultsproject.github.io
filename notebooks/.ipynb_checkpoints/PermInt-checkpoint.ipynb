{
 "cells": [
  {
   "cell_type": "markdown",
   "id": "a9da9e99",
   "metadata": {},
   "source": [
    "# LBPM - Benchmarcks"
   ]
  },
  {
   "cell_type": "markdown",
   "id": "1e9e217c",
   "metadata": {},
   "source": [
    "## Micromodels - Intrinsic Permeability\n",
    "\n",
    "In porous media experimentation, advances in micromodel generation make it possible to represent different rock behavior with micro and macro porosities. However, due to their manufacturing characteristics, micromodels allow only two-dimensional approximations of the pore and connectivity behaviors present in the rock structure.  \n",
    "\n",
    "[//]: # (Na experimentação de meios porosos os avanços na geração de micromodelos possibilitam a representação de diferentes tipos de rochas com micro e macro porosidades. Contudo, devido às suas características de fabricação, os micromodelos permitem apenas aproximações bidimensionais dos comportamentos de poros e conectivades presentes na estrutural da rocha.)  \n",
    "\n",
    "In the present Section 4 verification cases for intrinsic permeability of micromodels are simulated using the LBPM (https://opm-project.org/) routine lbpm_permeability_simulator. The cases M1, M2, M3 e M4 were simulated and compared with the experimental results of Wolf et al. (2022) (https://doi.org/10.1039/D2LC00445C). All micromodels have square dimensions of 25 x 25 mm and approximate depths of 31(0.5) $\\mu$m, 34.8(0.9) $\\mu$m, 33.6(0.5) $\\mu$m, and 32.0(2.9) $\\mu$m for models M1, M2, M3 and M4, respectively.\n",
    "\n",
    "* Micromodel 1 (M1): macro pore scale with pore diameter ranging from 200 to 500 $\\mu$m;\n",
    "\n",
    "* Micromodel 2 (M2): dual pore scale version of M1 with porous grains of pore diameter ranging from 20 to 50 $\\mu$m;\n",
    "\n",
    "* Micromodel 3 (M3): dual pore scale version of M1 with porous grains and porous throats, both with pore diameter ranging from 20 to 50 $\\mu$m;\n",
    "\n",
    "* Micromodel 4 (M4): dual pore scale version of M1 with voids and porous throats of pore diameter ranging from 20 to 50 $\\mu$m.\n",
    "\n",
    "[//]: # (Na presente Seção 4 casos verificação para permeabilidade intrínsica dos micromodelos são simulados utilizando a rotina de simulação de permeabilidade do LBPM. Os casos M1, M2, M3 e M4 foram simulados e comparados com os resultados experimentais de Wolf et al. Todos os micro modelos possuem dimensões quadradas de 25 x 25 mm e profundidades aproximadas de 31 0.5, 34,8 0.9 ,  33,6 0.5  e  32,0 2.9 para os micromodelos M1, M2, M3 e M4, respectivamente.)\n",
    "\n",
    "<table>\n",
    "<thead>\n",
    "  <tr>\n",
    "    <th style=\"font-size:19px;text-align: center\">M1</th>\n",
    "    <th style=\"font-size:19px;text-align: center\">M2</th>\n",
    "    <th style=\"font-size:19px;text-align: center\">M3</th>\n",
    "    <th style=\"font-size:19px;text-align: center\">M4</th>\n",
    "  </tr>\n",
    "</thead>\n",
    "<tbody>\n",
    "  <tr>\n",
    "    <td><img src=\"M1-P.png\" width=\"200\" height=\"200\"/></td>\n",
    "    <td><img src=\"M2-P.png\" width=\"200\" height=\"200\"/></td>\n",
    "    <td><img src=\"M3-P.png\" width=\"200\" height=\"200\"/></td>\n",
    "    <td><img src=\"M4-P.png\" width=\"200\" height=\"200\"/></td>\n",
    "  </tr>\n",
    "</tbody>\n",
    "</table>\n"
   ]
  },
  {
   "cell_type": "markdown",
   "id": "1ee851a6",
   "metadata": {},
   "source": [
    "### Numerical Setup\n",
    "\n",
    "In the micromodels discrete representation are used the meshes described in the Table. At the first and last mesh points of the y and z axes are set as solid to represent the micromodel walls.\n",
    "\n",
    "[//]: # (Na discretização dos micromodelos foram utilizadas as malhas descritas na Tabela abaixo. Nos eixos y e z os primeiros e últimos pontos de malha são considerados sólidos para representação das paredes do micromodelo.)\n",
    "\n",
    "$$\n",
    "\\begin{aligned}[]\n",
    "\\begin{array}{ccc}\n",
    "\\hline\n",
    "\\textrm{Model} & \\textrm{Voxel size} (\\mu m) & \\textrm{Grid } (x,y,z) & \\phi_{dig}[\\%]  \\\\ \\hline\n",
    "M1 & 4.42 & 5646x5648x9 & 27.3     \\\\ \n",
    "M2 & 5.00 & 5000x5002x9 & 40.2     \\\\ \n",
    "M3 & 4.86 & 5148x5150x9 & 33.6     \\\\ \n",
    "M4 & 4.57 & 5468x5470x9 & 36.7     \\\\ \\hline\n",
    "\\end{array}\n",
    "\\end{aligned}\n",
    "$$\n",
    "\n",
    "The LBPM setup, using as example the M1 model, is given by"
   ]
  },
  {
   "cell_type": "markdown",
   "id": "b9ea6347",
   "metadata": {},
   "source": [
    "```c\n",
    "MRT {\n",
    "   tau = 1.0\n",
    "   F = 0.0, 0.0, 1.0e-4\n",
    "   timestepMax = 60000\n",
    "   tolerance = 0.001\n",
    "}\n",
    "Domain {\n",
    "   Filename = \"M1-Micro-5646x5648x9.raw\"\n",
    "   ReadType = \"8bit\"      // data type\n",
    "   N = 9, 5648, 5646     // size of original image\n",
    "   nproc = 1, 4, 2        // process grid\n",
    "   n = 9, 1412, 2823      // sub-domain size\n",
    "   offset = 0, 0, 0 // offset to read sub-domain\n",
    "   voxel_length = 4.42    // voxel length (in microns)\n",
    "   ReadValues = 0, 1, 2   // labels within the original image\n",
    "   WriteValues = 0, 1, 2  // associated labels to be used by LBPM\n",
    "   InletLayers = 0, 0, 5 // specify 10 layers along the z-inlet\n",
    "   OutletLayers = 0, 0, 5 // specify 10 layers along the z-inlet\n",
    "   BC = 0                 // boundary condition type (0 for periodic)\n",
    "}\n",
    "Visualization {\n",
    "   write_silo = true     // write SILO databases with assigned variables\n",
    "   save_8bit_raw = true  // write labeled 8-bit binary files with phase assignments\n",
    "   save_phase_field = true  // save phase field within SILO database\n",
    "   save_pressure = true    // save pressure field within SILO database\n",
    "   save_velocity = true    // save velocity field within SILO database\n",
    "}\n",
    "```"
   ]
  },
  {
   "cell_type": "markdown",
   "id": "e6473f9d",
   "metadata": {},
   "source": [
    "The domain set of \" InletLayers = 0, 0, 5\" and \"OutletLayers = 0, 0, 5\" are used to conect inlet and outlet fo the periodic domain. The discrete images \\*.raw (as example \"M1-Micro-5646x5648x9.raw\") are available at XX."
   ]
  },
  {
   "cell_type": "markdown",
   "id": "716c5647",
   "metadata": {},
   "source": [
    "## Resultados\n",
    "\n",
    "Os campo de magnitude de velocidade obtido para cada caso pode ser na Figura abaixo."
   ]
  },
  {
   "cell_type": "markdown",
   "id": "42c5be29",
   "metadata": {},
   "source": [
    "<table>\n",
    "<thead>\n",
    "  <tr>\n",
    "    <th style=\"font-size:21px;text-align: center\">M1</th>\n",
    "    <th style=\"font-size:21px;text-align: center\">M2</th>\n",
    "    <th style=\"font-size:21px;text-align: center\">M3</th>\n",
    "    <th style=\"font-size:21px;text-align: center\">M4</th>\n",
    "  </tr>\n",
    "</thead>\n",
    "<tbody>\n",
    "  <tr>\n",
    "    <td><img src=\"M1-R.png\" width=\"200\" height=\"200\"/></td>\n",
    "    <td><img src=\"M2-R.png\" width=\"200\" height=\"200\"/></td>\n",
    "    <td><img src=\"M3-R.png\" width=\"200\" height=\"200\"/></td>\n",
    "    <td><img src=\"M4-R.png\" width=\"200\" height=\"200\"/></td>\n",
    "  </tr>\n",
    "</tbody>\n",
    "</table>"
   ]
  },
  {
   "cell_type": "markdown",
   "id": "33a155db",
   "metadata": {},
   "source": [
    "\n",
    "<h3 style=\"font-size:12px;text-align: center\">Table -Porosity and permeability calculations for the analyzed micromodels.</h3>\n",
    "$$\n",
    "\\begin{aligned}[]\n",
    "\\begin{array}{cccccccc}\n",
    "\\hline\n",
    "Model & \\phi_{dig}[\\%] & \\phi_{exp}[\\%] & Error[\\%] & k[Darcy]  & k_{LBPM}[Darcy] & Error[\\%] & k^{*}_{LBPM}[Darcy] \\\\ \\hline\n",
    "M1    & 27.3      & 27.2(0.1)      & −0.1      & 8.91(0.03)  &    9.49    &     6.51 &   2.56   \\\\ \n",
    "M2    & 40.2      & 39.7(0.2)      & −1.2      & 13.24(0.44) &   16.56    &    25.05 &   6.65 \\\\ \n",
    "M3    & 33.6      & 34.7(0.3)      & 3.4       & 5.74(0.01)  &    7.26    &    26.57 &   2.43  \\\\ \n",
    "M4    & 36.7      & 36.4(0.2)      & −0.7      & 5.71(1.25)  &    4.41    &    22.73 &   1.59 \\\\ \\hline\n",
    "\\end{array}\n",
    "\\end{aligned}\n",
    "$$"
   ]
  },
  {
   "cell_type": "code",
   "execution_count": null,
   "id": "cd9589ec",
   "metadata": {},
   "outputs": [],
   "source": [
    "fsdfsd"
   ]
  },
  {
   "cell_type": "code",
   "execution_count": null,
   "id": "587f066b",
   "metadata": {},
   "outputs": [],
   "source": []
  },
  {
   "cell_type": "code",
   "execution_count": null,
   "id": "2eb414e1",
   "metadata": {},
   "outputs": [],
   "source": [
    "fsdfsd"
   ]
  },
  {
   "cell_type": "code",
   "execution_count": null,
   "id": "a3430864",
   "metadata": {},
   "outputs": [],
   "source": []
  },
  {
   "cell_type": "code",
   "execution_count": null,
   "id": "6b463741",
   "metadata": {},
   "outputs": [],
   "source": []
  },
  {
   "cell_type": "code",
   "execution_count": null,
   "id": "2432858a",
   "metadata": {},
   "outputs": [],
   "source": [
    "fghjfhjkghkgjhkj"
   ]
  }
 ],
 "metadata": {
  "kernelspec": {
   "display_name": "Python 3 (ipykernel)",
   "language": "python",
   "name": "python3"
  },
  "language_info": {
   "codemirror_mode": {
    "name": "ipython",
    "version": 3
   },
   "file_extension": ".py",
   "mimetype": "text/x-python",
   "name": "python",
   "nbconvert_exporter": "python",
   "pygments_lexer": "ipython3",
   "version": "3.10.6"
  },
  "varInspector": {
   "cols": {
    "lenName": 16,
    "lenType": 16,
    "lenVar": 40
   },
   "kernels_config": {
    "python": {
     "delete_cmd_postfix": "",
     "delete_cmd_prefix": "del ",
     "library": "var_list.py",
     "varRefreshCmd": "print(var_dic_list())"
    },
    "r": {
     "delete_cmd_postfix": ") ",
     "delete_cmd_prefix": "rm(",
     "library": "var_list.r",
     "varRefreshCmd": "cat(var_dic_list()) "
    }
   },
   "types_to_exclude": [
    "module",
    "function",
    "builtin_function_or_method",
    "instance",
    "_Feature"
   ],
   "window_display": false
  }
 },
 "nbformat": 4,
 "nbformat_minor": 5
}
