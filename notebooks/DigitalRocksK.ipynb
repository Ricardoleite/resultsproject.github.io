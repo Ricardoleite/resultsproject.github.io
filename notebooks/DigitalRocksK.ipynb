{
 "cells": [
  {
   "cell_type": "markdown",
   "id": "1e9e217c",
   "metadata": {},
   "source": [
    "# 3D Digital Rocks \n",
    "  \n",
    "The generation of digital rocks through x-ray microtomography imaging has revolutionized the process of characterizing permo-porous properties. As example, the 3D images obtained provides valuable insights into the complex pore network, grain arrangement, properties of fluid flow trough numerical simulations and a overall rock morphology.\n",
    "\n",
    "In the present section, the 3D images of Berea sandstone and sandpack LV60A are simulate to  validate the single and multiphase routines of LBPM software for values of intrinsic and relative permeability. The results obtainer are compared with the results of Michels et al. (2021) (https://doi.org/10.1016/j.petrol.2021.108918). The below image ilustrate the 3D images:\n",
    "\n",
    "- (a)  Berea sandstone (https://figshare.com/articles/dataset/Berea_Sandstone/1153794/2);\n",
    "\n",
    "- (b)  Sandpack LV60A (https://figshare.com/articles/dataset/LV60A_sandpack/1153795/2).\n",
    "\n",
    "<img src=\"Berea-LV60A.png\" width=\"700\" height=\"350\" />\n"
   ]
  },
  {
   "cell_type": "markdown",
   "id": "1ee851a6",
   "metadata": {},
   "source": [
    "## Intrinsic Permeability - Numerical Setup\n",
    "\n",
    "The digital rocks domain used in the simulations are given in the Table below for each case.\n",
    "\n",
    "$$\n",
    "\\begin{aligned}[]\n",
    "\\begin{array}{ccccc}\n",
    "\\hline\n",
    "\\textrm{Parameters} &  &  & \\textrm{Berea}     & \\textrm{LV60A}     \\\\ \\hline\n",
    "\\textrm{Physical size } (\\mu m)             &  &  & 1603.5    & 3000.6    \\\\\n",
    "\\textrm{Image size (pixels)}            &  &  & 300^{3} & 300^{3} \\\\\n",
    "\\textrm{Voxel size } (\\mu m)                &  &  & 5.345     & 10.002\\\\\n",
    "\\textrm{Porosity} (\\%)                  &  &  & 19.8      & 36.8      \\\\\n",
    "\\textrm{Intrinsic Permeability (Darcy)} &  &  & 1.55      & 36.58     \\\\ \\hline\n",
    "\\end{array}\n",
    "\\end{aligned}\n",
    "$$\n",
    "\n",
    "The LBPM setup, using as example the Berea sandstone, is given by"
   ]
  },
  {
   "cell_type": "markdown",
   "id": "b9ea6347",
   "metadata": {},
   "source": [
    "```c\n",
    "MRT {\n",
    "   tau = 1.0\n",
    "   F = 0.0, 0.0, 1.0e-4\n",
    "   timestepMax = 60000\n",
    "   tolerance = 0.001\n",
    "}\n",
    "Domain {\n",
    "   Filename = \"Berea.raw\"\n",
    "   ReadType = \"8bit\"      // data type\n",
    "   N = 400, 400, 400     // size of original image\n",
    "   nproc = 2, 2, 2        // process grid\n",
    "   n = 150, 150, 150      // sub-domain size\n",
    "   offset = 0, 0, 0 // offset to read sub-domain\n",
    "   voxel_length = 5.345    // voxel length (in microns)\n",
    "   ReadValues = 0, 1, 2   // labels within the original image\n",
    "   WriteValues = 1, 0, 2  // associated labels to be used by LBPM\n",
    "   InletLayers = 0, 0, 5 // specify 10 layers along the z-inlet\n",
    "   OutletLayers = 0, 0, 5 // specify 10 layers along the z-inlet\n",
    "   BC = 0                 // boundary condition type (0 for periodic)\n",
    "}\n",
    "Visualization {\n",
    "   write_silo = true     // write SILO databases with assigned variables\n",
    "   save_8bit_raw = true  // write labeled 8-bit binary files with phase assignments\n",
    "   save_phase_field = true  // save phase field within SILO database\n",
    "   save_pressure = true    // save pressure field within SILO database\n",
    "   save_velocity = true    // save velocity field within SILO database\n",
    "}\n",
    "```"
   ]
  },
  {
   "cell_type": "markdown",
   "id": "e6473f9d",
   "metadata": {},
   "source": [
    "In all cases, the domain set of \" InletLayers = 0, 0, 5\" and \"OutletLayers = 0, 0, 5\" are used to conect inlet and outlet fo the periodic domain."
   ]
  },
  {
   "cell_type": "markdown",
   "id": "716c5647",
   "metadata": {},
   "source": [
    "### Resultados\n",
    "\n",
    "The stream lines obtained for each case are shown in the Figure below."
   ]
  },
  {
   "cell_type": "markdown",
   "id": "42c5be29",
   "metadata": {},
   "source": [
    "<table>\n",
    "<thead>\n",
    "  <tr>\n",
    "    <td><table>\n",
    "<thead>\n",
    "  <tr>\n",
    "    <th style=\"font-size:21px;text-align: center\">Berea Sandstone</th>\n",
    "  </tr>\n",
    "</thead>\n",
    "<tbody>\n",
    "  <tr>\n",
    "    <td><img src=\"Berea-Stream.png\" width=\"400\" height=\"325\"/></td>\n",
    "  </tr>\n",
    "</tbody>\n",
    "</table></td>\n",
    "    <td></td>\n",
    "    <td></td>\n",
    "    <td></td>\n",
    "    <td><table>\n",
    "<thead>\n",
    "  <tr>\n",
    "    <th style=\"font-size:21px;text-align: center\">Sandpack LV60A</th>\n",
    "  </tr>\n",
    "</thead>\n",
    "<tbody>\n",
    "  <tr>\n",
    "    <td><img src=\"LV60A-Stream.png\" width=\"400\" height=\"325\"/></td>\n",
    "  </tr>\n",
    "</tbody>\n",
    "</table></td>\n",
    "  </tr>\n",
    "</thead>\n",
    "</table>\n",
    "\n"
   ]
  },
  {
   "cell_type": "markdown",
   "id": "33a155db",
   "metadata": {},
   "source": [
    "\n",
    "<h3 style=\"font-size:12px;text-align: center\">Table -Permeability comparison with Michels et al. (2021).</h3>\n",
    "$$\n",
    "\\begin{aligned}[]\n",
    "\\begin{array}{cccc}\n",
    "\\hline\n",
    " & (\\textrm{Michels et al. 2021})  & \\textrm{LBPM} &  \\\\ \\hline\n",
    "\\textrm{Model} & k[Darcy]  & k[Darcy] & Error[\\%]  \\\\ \\hline\n",
    "\\textrm{Berea Sandstone}  & 1.55  &    1.95    &     25.81    \\\\ \n",
    "\\textrm{LV60A Sandpack}   & 36.58  &    38.84    &    6.17  \\\\ \\hline\n",
    "\\end{array}\n",
    "\\end{aligned}\n",
    "$$"
   ]
  },
  {
   "cell_type": "markdown",
   "id": "70ed1574",
   "metadata": {},
   "source": [
    "##  Relative Permeability - Numerical Setup"
   ]
  }
 ],
 "metadata": {
  "kernelspec": {
   "display_name": "Python 3 (ipykernel)",
   "language": "python",
   "name": "python3"
  },
  "language_info": {
   "codemirror_mode": {
    "name": "ipython",
    "version": 3
   },
   "file_extension": ".py",
   "mimetype": "text/x-python",
   "name": "python",
   "nbconvert_exporter": "python",
   "pygments_lexer": "ipython3",
   "version": "3.10.6"
  },
  "varInspector": {
   "cols": {
    "lenName": 16,
    "lenType": 16,
    "lenVar": 40
   },
   "kernels_config": {
    "python": {
     "delete_cmd_postfix": "",
     "delete_cmd_prefix": "del ",
     "library": "var_list.py",
     "varRefreshCmd": "print(var_dic_list())"
    },
    "r": {
     "delete_cmd_postfix": ") ",
     "delete_cmd_prefix": "rm(",
     "library": "var_list.r",
     "varRefreshCmd": "cat(var_dic_list()) "
    }
   },
   "types_to_exclude": [
    "module",
    "function",
    "builtin_function_or_method",
    "instance",
    "_Feature"
   ],
   "window_display": false
  }
 },
 "nbformat": 4,
 "nbformat_minor": 5
}
