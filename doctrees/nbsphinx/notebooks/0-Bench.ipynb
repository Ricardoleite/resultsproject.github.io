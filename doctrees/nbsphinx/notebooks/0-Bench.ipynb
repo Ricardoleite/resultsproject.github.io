{
 "cells": [
  {
   "cell_type": "code",
   "execution_count": 1,
   "id": "c18af103",
   "metadata": {},
   "outputs": [
    {
     "name": "stdout",
     "output_type": "stream",
     "text": [
      "usage: quickstart.py [OPTIONS] <PROJECT_DIR>\r\n",
      "quickstart.py: error: unrecognized arguments: -y\r\n"
     ]
    }
   ],
   "source": [
    "!python3 -m sphinx.cmd.quickstart -y"
   ]
  },
  {
   "cell_type": "code",
   "execution_count": null,
   "id": "03b8a566",
   "metadata": {},
   "outputs": [],
   "source": []
  },
  {
   "cell_type": "markdown",
   "id": "6720a54c",
   "metadata": {},
   "source": [
    "# Permeabilidade Intrínseca"
   ]
  },
  {
   "cell_type": "markdown",
   "id": "5daff1e6",
   "metadata": {},
   "source": [
    "## Micromodelos\n",
    "\n",
    "Na experimentação de meios porosos os avanços na geração de micromodelos possibilitam a representação de diferentes tipos de rochas com micro e macro porosidades. Contudo, devido às suas características de fabricação, os micromodelos permitem apenas aproximações bidimensionais dos comportamentos de poros e conectivades presentes na estrutural da rocha.  \n",
    "\n",
    "Na presente Seção 4 casos verificação para permeabilidade intrínsica dos micromodelos são simulados utilizando a rotina de simulação de permeabilidade do LBPM. Os casos M1, M2, M3 e M4 foram simulados e comparados com os resultados experimentais de Wolf et al. A Figura abaixo ilustra a geometria de poros dos meios M1, M2, M3 e M4.\n",
    "\n",
    "<img src=\"Micromodels.png\" style=\"width:600px;height:200px\"/>"
   ]
  },
  {
   "cell_type": "markdown",
   "id": "71c05be5",
   "metadata": {},
   "source": [
    "### Arquivo de Entrada"
   ]
  },
  {
   "cell_type": "raw",
   "id": "150c198b",
   "metadata": {},
   "source": [
    "MRT {\n",
    "   tau = 1.0\n",
    "   F = 0.0, 0.0, 1.0e-4\n",
    "   timestepMax = 60000\n",
    "   tolerance = 0.001\n",
    "}\n",
    "Domain {\n",
    "   Filename = \"M1-Micro-5880x5880x10.raw\"\n",
    "   ReadType = \"8bit\"      // data type\n",
    "   N = 10, 5880, 5880     // size of original image\n",
    "   nproc = 2, 2, 2        // process grid\n",
    "   n = 5, 2940, 2940      // sub-domain size\n",
    "   offset = 0, 0, 0 // offset to read sub-domain\n",
    "   voxel_length = 3.875    // voxel length (in microns)\n",
    "   ReadValues = 0, 1, 2   // labels within the original image\n",
    "   WriteValues = 0, 1, 2  // associated labels to be used by LBPM\n",
    "   InletLayers = 0, 0, 5 // specify 10 layers along the z-inlet\n",
    "   OutletLayers = 0, 0, 5 // specify 10 layers along the z-inlet\n",
    "   BC = 0                 // boundary condition type (0 for periodic)\n",
    "}\n",
    "Visualization {\n",
    "   write_silo = true     // write SILO databases with assigned variables\n",
    "   save_8bit_raw = true  // write labeled 8-bit binary files with phase assignments\n",
    "   save_phase_field = true  // save phase field within SILO database\n",
    "   save_pressure = true    // save pressure field within SILO database\n",
    "   save_velocity = true    // save velocity field within SILO database\n",
    "}"
   ]
  },
  {
   "cell_type": "markdown",
   "id": "56b13c15",
   "metadata": {},
   "source": [
    "As imagens *.raw do cada caso estão disponibilizada em (XX). As imagens possuem dimensão de 10x5880x5880 (x,y,z) onde os planos (0,y,z) e (9,y,z) descrevem as paredes sólidas do micromodelo."
   ]
  },
  {
   "cell_type": "markdown",
   "id": "10027539",
   "metadata": {},
   "source": [
    "## Resultados\n",
    "\n",
    "Os campo de magnitude de velocidade obtido para cada caso pode ser na Figura abaixo."
   ]
  },
  {
   "cell_type": "code",
   "execution_count": null,
   "id": "1edc60a8",
   "metadata": {},
   "outputs": [],
   "source": []
  },
  {
   "cell_type": "markdown",
   "id": "996ed0e0",
   "metadata": {},
   "source": []
  }
 ],
 "metadata": {
  "kernelspec": {
   "display_name": "Python 3 (ipykernel)",
   "language": "python",
   "name": "python3"
  },
  "language_info": {
   "codemirror_mode": {
    "name": "ipython",
    "version": 3
   },
   "file_extension": ".py",
   "mimetype": "text/x-python",
   "name": "python",
   "nbconvert_exporter": "python",
   "pygments_lexer": "ipython3",
   "version": "3.10.6"
  },
  "varInspector": {
   "cols": {
    "lenName": 16,
    "lenType": 16,
    "lenVar": 40
   },
   "kernels_config": {
    "python": {
     "delete_cmd_postfix": "",
     "delete_cmd_prefix": "del ",
     "library": "var_list.py",
     "varRefreshCmd": "print(var_dic_list())"
    },
    "r": {
     "delete_cmd_postfix": ") ",
     "delete_cmd_prefix": "rm(",
     "library": "var_list.r",
     "varRefreshCmd": "cat(var_dic_list()) "
    }
   },
   "types_to_exclude": [
    "module",
    "function",
    "builtin_function_or_method",
    "instance",
    "_Feature"
   ],
   "window_display": false
  }
 },
 "nbformat": 4,
 "nbformat_minor": 5
}
