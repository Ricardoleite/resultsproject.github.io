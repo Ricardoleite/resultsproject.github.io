{
 "cells": [
  {
   "cell_type": "markdown",
   "id": "6bf13bf6",
   "metadata": {},
   "source": [
    "#  Relaxation Time - Permeability -- Dependecy Analysis\n",
    "\n",
    "```{figure} BCC.png\n",
    "---\n",
    "scale: 50%\n",
    "align: right\n",
    "---\n",
    "Periodic body-centered cubic (BCC): a) 3D image b) 2D projection.\n",
    "```\n",
    "\n",
    "In the present analysis, we aim to observe the relationship between the relaxation time of the collision model ($\\tau$) and the intrinsic permeability ($k). It should be noted that this relationship is directly influenced by the collision model and the boundary conditions employed in the model. The problem of creeping flow over a periodic body-centered cubic (BCC) is explored in orde to compare the present results with Pan et al. (2006). The permeabilidade of a periodic array spheres is given by\n",
    "\n",
    "$k^{*}=\\displaystyle\\frac{1}{6\\pi a d^{*}}$\n",
    "\n",
    "where $a$ is the sphere radius and $d^{*}$ is dimensionless drag force represented by\n",
    "\n",
    "$d^{*}=\\displaystyle\\frac{6\\pi a \\rho \\nu }{F_{D}}$\n",
    "\n",
    "being $\\rho$ the fluid density, $\\nu$ the kinematic viscosity, $F_{D}$ the drag force. The dimensioless drag force can be also determined by the geometric propertie of solid volume fraction $c$ as a expansion function given by\n",
    "\n",
    "$d^{*}=\\displaystyle\\sum_{n=0}^{30}\\alpha_{n}\\chi^{n}, \\quad\\quad \\chi=\\left(\\displaystyle\\frac{c}{c_{max}}\\right)^{1/3}, \\quad\\quad c=\\displaystyle\\frac{8\\pi a^{3}}{3L^{3}}, \\quad\\quad c_{\\max}=\\displaystyle\\frac{\\sqrt{3}\\pi}{8},$\n",
    "\n",
    "where $L$ is the length of the cube, $\\chi$ the relation between the solid volume and maximum solid volume and $\\alpha_{n}$ the coefficients obtained by Sangani and Acrivos (1982)(https://doi.org/10.1016/0301-9322(82)90047-7)."
   ]
  },
  {
   "cell_type": "code",
   "execution_count": 59,
   "id": "aff524fe",
   "metadata": {
    "tags": [
     "hide-cell"
    ]
   },
   "outputs": [
    {
     "name": "stdout",
     "output_type": "stream",
     "text": [
      "d= 25.492729708804468\n",
      "K= 0.0001766895992112725\n",
      "xi= 0.8500039338144266\n",
      "K= 0.002729296875\n"
     ]
    }
   ],
   "source": [
    "qs = np.array([1.0,1.575834,2.483254,3.233022,4.022864,4.650320,5.281412,5.826374,6.258376,6.544504,6.878396,\n",
    "               7.190839,7.268068,7.304025,7.301217,7.2364410,7.298014,7.369847,7.109497,6.228418,5.235796,\n",
    "              4.476874,3.541982,2.939353,3.935484])\n",
    "a=11.778\n",
    "#phi=0.85\n",
    "xi=( (64.0*a**(3))/(sqrt(3.0)*3.0*(32.0)**(3.0)) )**(1./3.)\n",
    "d=0.0\n",
    "for i in range (0,len(qs)):\n",
    "    d=d+qs[i]*xi**(i)\n",
    "#d=qs[0]*xi**(0)+qs[1]*xi**(1)+qs[2]*xi**(2)+qs[3]*xi**(3)+qs[4]*xi**(4)+qs[5]*xi**(5)+qs[6]*xi**(6)+qs[7]*xi**(7)\n",
    "k=1.0/(d*6.0*pi*a)\n",
    "print(\"d=\",d)\n",
    "print(\"K=\",k)\n",
    "print(\"xi=\",xi)\n",
    "print(\"K=\",2.7948/32**2)"
   ]
  },
  {
   "cell_type": "code",
   "execution_count": 4,
   "id": "08a92f1d",
   "metadata": {
    "tags": [
     "hide-input"
    ]
   },
   "outputs": [
    {
     "name": "stdout",
     "output_type": "stream",
     "text": [
      "Populating the interactive namespace from numpy and matplotlib\n"
     ]
    },
    {
     "data": {
      "image/png": "[encoded data removed]",
      "text/plain": [
       "<Figure size 432x288 with 1 Axes>"
      ]
     },
     "metadata": {
      "needs_background": "light"
     },
     "output_type": "display_data"
    }
   ],
   "source": [
    "%pylab inline\n",
    "matplotlib.rcParams['mathtext.fontset'] = 'cm'\n",
    "#k = np.array([19.6044, 19.5336, 19.4626, 19.4328, 19.26])\n",
    "k = np.array([2.7948, 19.5336, 19.4626, 19.4328, 19.26])\n",
    "nu = np.array([1./2., 1./3., 1./6., 1./10., 1./30.])\n",
    "plt.semilogx(nu,k,'ko:',fillstyle='none')\n",
    "plt.ylabel('$Nu_{av}$', color='k', horizontalalignment='right',rotation=0, fontsize=20)\n",
    "plt.xlabel('$Ra$', fontsize=20)\n",
    "plt.legend(['$LBPM$'],fontsize=11.,bbox_to_anchor=(1.0, 1.02))\n",
    "plt.show()"
   ]
  },
  {
   "cell_type": "markdown",
   "id": "c8a9000e",
   "metadata": {},
   "source": [
    "<h3 style=\"font-size:12px;text-align: center\">Table -Permeability comparison with Michels et al. (2021).</h3>\n",
    "\n",
    "$$\n",
    "\\begin{aligned}[]\n",
    "\\begin{array}{cccc}\n",
    "\\hline\n",
    "\\textrm{Model} & k[Darcy]  & \\tau & Variance[\\%]  \\\\ \\hline\n",
    "\\textrm{LV60A Sandpack}  & 38.84  &    1.0    &     -    \\\\ \n",
    "                         & 38.26  &   0.9     &    1.51  \\\\\n",
    "                         & 37.69  &   0.8     &    1.51 \\\\ \\hline\n",
    "\\end{array}\n",
    "\\end{aligned}\n",
    "$$"
   ]
  }
 ],
 "metadata": {
  "celltoolbar": "Edit Metadata",
  "kernelspec": {
   "display_name": "Python 3 (ipykernel)",
   "language": "python",
   "name": "python3"
  },
  "language_info": {
   "codemirror_mode": {
    "name": "ipython",
    "version": 3
   },
   "file_extension": ".py",
   "mimetype": "text/x-python",
   "name": "python",
   "nbconvert_exporter": "python",
   "pygments_lexer": "ipython3",
   "version": "3.10.6"
  },
  "varInspector": {
   "cols": {
    "lenName": 16,
    "lenType": 16,
    "lenVar": 40
   },
   "kernels_config": {
    "python": {
     "delete_cmd_postfix": "",
     "delete_cmd_prefix": "del ",
     "library": "var_list.py",
     "varRefreshCmd": "print(var_dic_list())"
    },
    "r": {
     "delete_cmd_postfix": ") ",
     "delete_cmd_prefix": "rm(",
     "library": "var_list.r",
     "varRefreshCmd": "cat(var_dic_list()) "
    }
   },
   "types_to_exclude": [
    "module",
    "function",
    "builtin_function_or_method",
    "instance",
    "_Feature"
   ],
   "window_display": false
  }
 },
 "nbformat": 4,
 "nbformat_minor": 5
}
