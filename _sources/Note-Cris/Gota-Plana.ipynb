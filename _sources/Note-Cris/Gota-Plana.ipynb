{
 "cells": [
  {
   "cell_type": "markdown",
   "id": "3410afb1",
   "metadata": {},
   "source": [
    "# Gota Plana - Benchmark"
   ]
  },
  {
   "cell_type": "markdown",
   "id": "74c06bc8",
   "metadata": {},
   "source": [
    "## Dados de Domínio"
   ]
  },
  {
   "cell_type": "code",
   "execution_count": 15,
   "id": "34129f76",
   "metadata": {
    "tags": [
     "hide-input"
    ]
   },
   "outputs": [],
   "source": [
    "import numpy as np\n",
    "from matplotlib import pyplot as plt\n",
    "import statistics as st\n",
    "X = 20 #Comprimento no eixo X\n",
    "Y = 20 #Comprimento no eixo Y\n",
    "Z = 20 #Comprimento no eixo Z\n",
    "raio = 7 #Raio da Gota\n",
    "d = 3 #Raio de Rastreio no ponto de Ângulo de contato\n",
    "n = 5 # Número de casos entre 0 e 180º\n",
    "\n",
    "#Matrizes 1D\n",
    "angP = np.zeros((n),dtype=\"float\")\n",
    "angreal = np.zeros((n),dtype=\"float\")\n",
    "mediana = np.zeros((n),dtype=\"float\")\n",
    "maximo = np.zeros((n),dtype=\"float\")\n",
    "minimo = np.zeros((n),dtype=\"float\")\n",
    "#Matrizes 3D do domínio\n",
    "X2 = np.linspace(0.0, float(X), X+1) \n",
    "Y2 = np.linspace(0.0, float(Y), Y+1) \n",
    "Z2 = np.linspace(0.0, float(Z), Z+1) \n",
    "X2, Y2, Z2 = np.meshgrid(Z2,Y2,X2)"
   ]
  },
  {
   "cell_type": "markdown",
   "id": "39c5638d",
   "metadata": {},
   "source": [
    "## Geração da Gota Plana\n",
    "\n",
    "$D(x,y,z)=1 \\quad \\longrightarrow \\quad \\textrm{Fluido em suspensão}$\n",
    "\n",
    "$D(x,y,z)=2 \\quad \\longrightarrow \\quad \\textrm{Gota}$\n",
    "\n",
    "$D(x,y,z)=0 \\quad \\longrightarrow \\quad \\textrm{Sólido}$"
   ]
  },
  {
   "cell_type": "markdown",
   "id": "790ff413",
   "metadata": {},
   "source": [
    "fds"
   ]
  },
  {
   "cell_type": "code",
   "execution_count": 16,
   "id": "7d9eb92a",
   "metadata": {
    "tags": [
     "hide-input"
    ]
   },
   "outputs": [],
   "source": [
    "def gotaplano(I, J, K, raio, angulo):\n",
    "    D=np.ones((I,J,K),dtype=\"uint8\")\n",
    "    a: int = K/10\n",
    "    cx = I/2\n",
    "    cy = J/2\n",
    "    cz = a + 0.5 + raio*np.cos(angulo)\n",
    "    for i in range(0,I):\n",
    "        for j in range (0, J):\n",
    "            for k in range (0, K):\n",
    "                dist = np.sqrt((i-cx)*(i-cx) + (j-cy)*(j-cy) + (k-cz)*(k-cz))\n",
    "                if (dist <= raio) :\n",
    "                    D[i,j,k] = 2\n",
    "                if k <= a:\n",
    "                    D[i,j,k] = 0\n",
    "    if(raio<=2):print(\"raio menor que a distância da parede\")\n",
    "    return D;"
   ]
  },
  {
   "cell_type": "markdown",
   "id": "eebdbccc",
   "metadata": {},
   "source": [
    "## Rastreamento de pontos"
   ]
  },
  {
   "cell_type": "code",
   "execution_count": 17,
   "id": "45d54768",
   "metadata": {
    "tags": [
     "hide-input"
    ]
   },
   "outputs": [],
   "source": [
    "def rastrear3d(D):\n",
    "    X, Y, Z = np.shape(D)\n",
    "    P=np.zeros((X,Y,Z),dtype=\"uint8\")\n",
    "    for i in range(0,X):\n",
    "        for j in range (0, Y):\n",
    "            for k in range (0, Z):\n",
    "                if D[i,j,k] == 2:\n",
    "                    if D[i+1,j,k]==0 or D[i-1,j,k]==0 or D[i,j+1,k]==0 or D[i,j-1,k]==0 or D[i,j,k+1]==0 or D[i,j,k-1]==0:\n",
    "                        P[i,j,k] = 1\n",
    "                    if D[i+1,j,k]==1 or D[i-1,j,k]==1 or D[i,j+1,k]==1 or D[i,j-1,k]==1 or D[i,j,k+1]==1 or D[i,j,k-1]==1:\n",
    "                        P[i,j,k] = 2\n",
    "                        if D[i+1,j,k]==0 or D[i-1,j,k]==0 or D[i,j+1,k]==0 or D[i,j-1,k]==0 or D[i,j,k+1]==0 or D[i,j,k-1]==0:\n",
    "                            P[i,j,k] = 3\n",
    "    return P;"
   ]
  },
  {
   "cell_type": "markdown",
   "id": "56bdce79",
   "metadata": {},
   "source": [
    "## Calculo do Plano 3D"
   ]
  },
  {
   "cell_type": "code",
   "execution_count": 18,
   "id": "4417af0c",
   "metadata": {
    "tags": [
     "hide-input"
    ]
   },
   "outputs": [],
   "source": [
    "def encontrarpontosconectados3d(P, d, M, N, O, fl1, fl2):\n",
    "    #pocura esferico, não quadrado\n",
    "    conectados = np.zeros((1,3),dtype='int')\n",
    "    contador = 1\n",
    "    c = 0\n",
    "    while c < contador:\n",
    "        for i in range(-1+conectados[c,0], 2+conectados[c,0]):\n",
    "            for j in range(-1+conectados[c,1], 2+conectados[c,1]):\n",
    "                for k in range(-1+conectados[c,2], 2+conectados[c,2]):\n",
    "                    if P[M+i, N+j, O+k] == fl1 or P[M+i, N+j, O+k] == fl2:\n",
    "                        teste = 0\n",
    "                        for h in range(0, contador):\n",
    "                            if i == conectados[h,0] and j == conectados[h,1] and k == conectados[h,2]:\n",
    "                                teste = 1\n",
    "#                        if i > d or -i > d or j > d or -j > d or k > d or -k > d:\n",
    "#                            teste = 1\n",
    "                        if i**2 + j**2 + k**2 > d**2:\n",
    "                            teste = 1\n",
    "                        if teste == 0:\n",
    "                            conectados = np.lib.pad(conectados, ((0, 1), (0, 0)), 'constant', constant_values=(0))\n",
    "                            conectados[contador, 0] = i\n",
    "                            conectados[contador, 1] = j\n",
    "                            conectados[contador, 2] = k\n",
    "                            contador = contador + 1\n",
    "        c = c + 1\n",
    "    return conectados;"
   ]
  },
  {
   "cell_type": "code",
   "execution_count": 19,
   "id": "99725134",
   "metadata": {
    "tags": [
     "hide-input"
    ]
   },
   "outputs": [],
   "source": [
    "def melhoreixo3d(v):\n",
    "    vn = np.unique(v[:,[1,2]], axis=0)\n",
    "    a, w = np.shape(vn)\n",
    "    vn = np.unique(v[:,[0,2]], axis=0)\n",
    "    b, w = np.shape(vn)\n",
    "    vn = np.unique(v[:,[0,1]], axis=0)\n",
    "    c, w = np.shape(vn)\n",
    "    if a > b and a > c:\n",
    "        eixo = 0\n",
    "    elif b > a and b > c:\n",
    "        eixo = 1\n",
    "    elif c > a and c > b:\n",
    "        eixo = 2\n",
    "    elif a == b > c:\n",
    "        if v[0,0] == v[1,0]:\n",
    "            eixo = 1\n",
    "        else:\n",
    "            eixo = 0\n",
    "    elif a == c > b:\n",
    "        if v[0,0] == v[1,0]:\n",
    "            eixo = 2\n",
    "        else:\n",
    "            eixo = 0\n",
    "    elif b == c > a:\n",
    "        if v[0,1] == v[1,1]:\n",
    "            eixo = 2\n",
    "        else:\n",
    "            eixo = 1\n",
    "    elif a == b == c:\n",
    "        eixo = 0\n",
    "    return eixo;"
   ]
  },
  {
   "cell_type": "code",
   "execution_count": 20,
   "id": "14a3a524",
   "metadata": {
    "tags": [
     "hide-input"
    ]
   },
   "outputs": [],
   "source": [
    "def calcularplano3d(P, d):\n",
    "    X, Y, Z = np.shape(P)\n",
    "    coeficientes1=np.zeros((X,Y,Z,4),dtype=float)\n",
    "    coeficientes2=np.zeros((X,Y,Z,4),dtype=float)\n",
    "    for i in range(d,X-d):\n",
    "        for j in range (d, Y-d):\n",
    "            for k in range(d, Z-d):\n",
    "                if P[i,j,k] == 3:  \n",
    "                    v1 = encontrarpontosconectados3d(P, d, i, j, k, 1, 3)\n",
    "                    v2 = encontrarpontosconectados3d(P, d, i, j, k, 2, 3)            \n",
    "                    eixo1 = melhoreixo3d(v1)\n",
    "                    eixo2 = melhoreixo3d(v2)\n",
    "                    matriz_design1 = np.c_[np.delete(v1, eixo1, axis=1), np.ones(v1.shape[0])]\n",
    "                    C, _, _, _ = np.linalg.lstsq(matriz_design1, v1[:, eixo1], rcond=None)\n",
    "                    coeficientes1[i,j,k,eixo1] = -1\n",
    "                    coeficientes1[i,j,k,3] = C[2]\n",
    "                    if eixo1 == 0:\n",
    "                        coeficientes1[i,j,k,1] = C[0]\n",
    "                        coeficientes1[i,j,k,2] = C[1]\n",
    "                    if eixo1 == 1:\n",
    "                        coeficientes1[i,j,k,0] = C[0]\n",
    "                        coeficientes1[i,j,k,2] = C[1]\n",
    "                    if eixo1 == 2:\n",
    "                        coeficientes1[i,j,k,0] = C[0]\n",
    "                        coeficientes1[i,j,k,1] = C[1]\n",
    "                    matriz_design2 = np.c_[np.delete(v2, eixo2, axis=1), np.ones(v2.shape[0])]\n",
    "                    C2, _, _, _ = np.linalg.lstsq(matriz_design2, v2[:, eixo2], rcond=None)\n",
    "                    coeficientes2[i,j,k,eixo2] = -1\n",
    "                    coeficientes2[i,j,k,3] = C2[2]\n",
    "                    if eixo2 == 0:\n",
    "                        coeficientes2[i,j,k,1] = C2[0]\n",
    "                        coeficientes2[i,j,k,2] = C2[1]\n",
    "                    if eixo2 == 1:\n",
    "                        coeficientes2[i,j,k,0] = C2[0]\n",
    "                        coeficientes2[i,j,k,2] = C2[1]\n",
    "                    if eixo2 == 2:\n",
    "                        coeficientes2[i,j,k,0] = C2[0]\n",
    "                        coeficientes2[i,j,k,1] = C2[1]\n",
    "    return coeficientes1, coeficientes2;"
   ]
  },
  {
   "cell_type": "markdown",
   "id": "9acc6609",
   "metadata": {},
   "source": [
    "## Derivadas normais ao plano"
   ]
  },
  {
   "cell_type": "code",
   "execution_count": 21,
   "id": "12ac477f",
   "metadata": {
    "tags": [
     "hide-input"
    ]
   },
   "outputs": [],
   "source": [
    "def phic(npimg):\n",
    "    M, N, O = np.shape(npimg)\n",
    "    phi = np.zeros((M, N, O), dtype=\"float\")\n",
    "    for i in range(0,M):\n",
    "        for j in range (0, N):\n",
    "            for k in range (0, O):\n",
    "                if npimg[i,j,k] == 2 or npimg[i,j,k] == 0:\n",
    "                    phi[i,j,k] = -1\n",
    "                if npimg[i,j,k] == 1:\n",
    "                    phi[i,j,k] = 1\n",
    "    return phi;"
   ]
  },
  {
   "cell_type": "code",
   "execution_count": 22,
   "id": "4cae4ffa",
   "metadata": {
    "tags": [
     "hide-input"
    ]
   },
   "outputs": [],
   "source": [
    "def psic(npimg):\n",
    "    M, N, O = np.shape(npimg)\n",
    "    psi = np.zeros((M, N, O), dtype=\"float\")\n",
    "    for i in range(0,M):\n",
    "        for j in range (0, N):\n",
    "            for k in range (0, O):\n",
    "                if npimg[i,j,k] == 0:\n",
    "                    psi[i,j,k] = -1\n",
    "                if npimg[i,j,k] == 1 or npimg[i,j,k] == 2:\n",
    "                    psi[i,j,k] = 1\n",
    "    return psi;"
   ]
  },
  {
   "cell_type": "code",
   "execution_count": 23,
   "id": "c7932ea4",
   "metadata": {
    "tags": [
     "hide-input"
    ]
   },
   "outputs": [],
   "source": [
    "def hic(npimg):\n",
    "    M, N, O = np.shape(npimg)\n",
    "    hi = np.zeros((M, N, O), dtype=\"float\")\n",
    "    for i in range(0,M):\n",
    "        for j in range (0, N):\n",
    "            for k in range (0, O):\n",
    "                if npimg[i,j,k] == 1 or npimg[i,j,k] == 0:\n",
    "                    hi[i,j,k] = -1\n",
    "                if npimg[i,j,k] == 2:\n",
    "                    hi[i,j,k] = 1\n",
    "    return hi;"
   ]
  },
  {
   "cell_type": "code",
   "execution_count": 24,
   "id": "45158ce6",
   "metadata": {
    "tags": [
     "hide-input"
    ]
   },
   "outputs": [],
   "source": [
    "def vetorunitario(C):\n",
    "    I, J, K, L = np.shape(C)\n",
    "    cv = np.zeros((I,J,K), dtype=\"float\")\n",
    "    mtuni = np.zeros((I,J,K,L), dtype=\"float\")\n",
    "    for i in range(0,I):\n",
    "        for j in range (0, J):\n",
    "            for k in range (0, K):\n",
    "                cv[i,j,k] = np.sqrt((C[i,j,k,0])**2+(C[i,j,k,1])**2 + C[i,j,k,2]**2) \n",
    "                if cv[i,j,k] != 0:\n",
    "                    mtuni[i,j,k,:] = (C[i,j,k,:])/(cv[i,j,k])\n",
    "    return mtuni;"
   ]
  },
  {
   "cell_type": "code",
   "execution_count": 25,
   "id": "e39b924a",
   "metadata": {
    "tags": [
     "hide-input"
    ]
   },
   "outputs": [],
   "source": [
    "def juntarmetrizesvetor(mt1, mt2, mt3):\n",
    "    M,N,O = np.shape(mt1)\n",
    "    mt = np.zeros((M,N,O,3))\n",
    "    mt[:,:,:,0] = mt1\n",
    "    mt[:,:,:,1] = mt2\n",
    "    mt[:,:,:,2] = mt3\n",
    "    return mt;"
   ]
  },
  {
   "cell_type": "code",
   "execution_count": 26,
   "id": "ca02fd8f",
   "metadata": {
    "tags": [
     "hide-input"
    ]
   },
   "outputs": [],
   "source": [
    "def Derivadapontosrastreados(D, P):\n",
    "    x, y, z = np.shape(D)\n",
    "    phi = phic(D)\n",
    "    psi = psic(D)\n",
    "    hi = hic(D)\n",
    "    dxphi = np.zeros(np.shape(phi), dtype=\"float\")\n",
    "    dyphi = np.zeros(np.shape(phi), dtype=\"float\")\n",
    "    dzphi = np.zeros(np.shape(phi), dtype=\"float\")\n",
    "    dxpsi = np.zeros(np.shape(phi), dtype=\"float\")\n",
    "    dypsi = np.zeros(np.shape(phi), dtype=\"float\")\n",
    "    dzpsi = np.zeros(np.shape(phi), dtype=\"float\")\n",
    "    dxhi = np.zeros(np.shape(phi), dtype=\"float\")\n",
    "    dyhi = np.zeros(np.shape(phi), dtype=\"float\")\n",
    "    dzhi = np.zeros(np.shape(phi), dtype=\"float\")\n",
    "    for i in range(0,x-1):\n",
    "        for j in range (0, y-1):\n",
    "            for k in range (0, z-1):            \n",
    "                if P[i,j,k] == 3:\n",
    "                    dxphi[i,j,k] = (int(phi[i+1, j,k])-int(phi[i-1, j, k]))/2\n",
    "                    dyphi[i,j,k] = (int(phi[i, j+1,k])-int(phi[i, j-1, k]))/2\n",
    "                    dzphi[i,j,k] = (int(phi[i, j,k+1])-int(phi[i, j, k-1]))/2\n",
    "                    dxpsi[i,j,k] = (int(psi[i+1, j,k])-int(psi[i-1, j, k]))/2\n",
    "                    dypsi[i,j,k] = (int(psi[i, j+1,k])-int(psi[i, j-1, k]))/2\n",
    "                    dzpsi[i,j,k] = (int(psi[i, j,k+1])-int(psi[i, j, k-1]))/2  \n",
    "                    dxhi[i,j,k] = (int(hi[i+1, j,k])-int(hi[i-1, j, k]))/2\n",
    "                    dyhi[i,j,k] = (int(hi[i, j+1,k])-int(hi[i, j-1, k]))/2\n",
    "                    dzhi[i,j,k] = (int(hi[i, j,k+1])-int(hi[i, j, k-1]))/2\n",
    "    dphi =  juntarmetrizesvetor(dxphi, dyphi, dzphi)\n",
    "    dpsi =  juntarmetrizesvetor(dxpsi, dypsi, dzpsi)\n",
    "    dhi =  juntarmetrizesvetor(dxhi, dyhi, dzhi)\n",
    "    return dphi, dpsi, dhi;"
   ]
  },
  {
   "cell_type": "code",
   "execution_count": 27,
   "id": "c4f6a3f3",
   "metadata": {
    "tags": [
     "hide-input"
    ]
   },
   "outputs": [],
   "source": [
    "def angulocorrigido(c1, c2, dphi, dpsi, dhi):\n",
    "    I, J, K, L = np.shape(c1)\n",
    "    ang = np.zeros((I, J, K),dtype=float)\n",
    "    c1 = vetorunitario(c1)\n",
    "    c2 = vetorunitario(c2)\n",
    "    dphi = vetorunitario(dphi)\n",
    "    dpsi = vetorunitario(dpsi)\n",
    "    dhi = vetorunitario(dhi)\n",
    "    for i in range(0, I):\n",
    "        for j in range(0, J):\n",
    "            for k in range(0, K):\n",
    "                \n",
    "                a = c1[i,j,k,0]*dpsi[i,j,k,0] + c1[i,j,k,1]*dpsi[i,j,k,1] + c1[i,j,k,2]*dpsi[i,j,k,2]\n",
    "                if a < -1:\n",
    "                    a = -1\n",
    "                if a > 1:\n",
    "                    a = 1\n",
    "                b = c2[i,j,k,0]*dphi[i,j,k,0] + c2[i,j,k,1]*dphi[i,j,k,1] + c2[i,j,k,2]*dphi[i,j,k,2]\n",
    "                if b < -1:\n",
    "                    b = -1\n",
    "                if b > 1:\n",
    "                    b = 1\n",
    "                if np.arccos(a) >= np.pi/2:\n",
    "                    c1[i,j,k,:] = -1*c1[i,j,k,:]\n",
    "                if np.arccos(b) >= np.pi/2:\n",
    "                    c2[i,j,k,:] = -1*c2[i,j,k,:]\n",
    "                ang[i,j,k] = c1[i,j,k,0]*c2[i,j,k,0] + c1[i,j,k,1]*c2[i,j,k,1] + c1[i,j,k,2]*c2[i,j,k,2]\n",
    "                if ang[i,j,k] > 1:\n",
    "                    ang[i,j,k] = 1\n",
    "                if ang[i,j,k] != 0:\n",
    "                    #all(l != 0 for l in c1[i,j,k,:]) and all(l != 0 for l in c1[i,j,k,:]) and \n",
    "                    ang[i,j,k] = np.arccos((ang[i,j,k]))\n",
    "                    ang[i,j,k] = np.pi - ang[i,j,k]\n",
    "    return ang;"
   ]
  },
  {
   "cell_type": "code",
   "execution_count": 28,
   "id": "70573308",
   "metadata": {
    "tags": [
     "hide-cell"
    ]
   },
   "outputs": [
    {
     "name": "stdout",
     "output_type": "stream",
     "text": [
      "[0.39408159 0.30576859 0.39408159 0.39408159 0.39408159 0.30576859\n",
      " 0.30576859 0.39408159 0.39408159 0.39408159 0.30576859 0.39408159]\n",
      "[0.83907248 0.82479038 0.89605538 0.82479038 0.83907248 0.79945624\n",
      " 0.79945624 0.83907248 0.83907248 0.82479038 0.82479038 0.89605538\n",
      " 0.89605538 0.82479038 0.82479038 0.83907248 0.83907248 0.79945624\n",
      " 0.79945624 0.83907248 0.82479038 0.89605538 0.82479038 0.83907248]\n",
      "[1.41295834 1.52280282 1.52280282 1.41295834 1.53344453 1.53344453\n",
      " 1.53344453 1.53344453 1.41295834 1.41295834 1.52280282 1.52280282\n",
      " 1.52280282 1.52280282 1.41295834 1.41295834 1.53344453 1.53344453\n",
      " 1.53344453 1.53344453 1.41295834 1.52280282 1.52280282 1.41295834]\n",
      "[2.13288239 2.11729978 2.18152229 2.11729978 2.13288239 2.29879714\n",
      " 2.16856522 2.16856522 2.29879714 2.16277206 2.16277206 2.3434899\n",
      " 2.16856522 2.13288239 2.13288239 2.11729978 2.11729978 2.18152229\n",
      " 2.18152229 2.11729978 2.11729978 2.13288239 2.13288239 2.16856522\n",
      " 2.3434899  2.29879714 2.29879714 2.16277206 2.16856522 2.16856522\n",
      " 2.16277206 2.13288239 2.11729978 2.18152229 2.11729978 2.13288239]\n",
      "[3.14159265 3.14159265 3.14159265 3.14159265 3.14159265 3.14159265\n",
      " 3.14159265 3.14159265 3.14159265 3.14159265 3.14159265 3.14159265\n",
      " 3.14159265 3.14159265 3.14159265 3.14159265 3.14159265 3.14159265\n",
      " 3.14159265 3.14159265 3.14159265 3.14159265 3.14159265 3.14159265\n",
      " 3.14159265 3.14159265 3.14159265 3.14159265 3.14159265 3.14159265\n",
      " 3.14159265 3.14159265 3.14159265 3.14159265 3.14159265 3.14159265\n",
      " 3.14159265]\n"
     ]
    }
   ],
   "source": [
    "h = 0\n",
    "for h in range(0, n):\n",
    "    angulo = h*np.pi/n\n",
    "    D = gotaplano(X, Y, Z, raio, angulo)\n",
    "#    D = ag.gotaplanoinclinadoangulo(X, Y, Z, raio, angulo)\n",
    "#    D = ag.gotaplanoinclinado(X, Y, Z, raio, angulo)\n",
    "#    P = ag.rastrear3dconectividade2(D)\n",
    "    P = rastrear3d(D)\n",
    "    c1, c2 = calcularplano3d(P, d)\n",
    "    dphi, dpsi, dhi = Derivadapontosrastreados(D, P)\n",
    "    ang = angulocorrigido(c1, c2, dphi, dpsi, dhi)    \n",
    "    b = ang[ang != 0]\n",
    "    print(b)\n",
    "    angP[h] = np.mean(b)\n",
    "    angreal[h] = angulo\n",
    "    if len(b) != 0:    \n",
    "        mediana[h] = st.median(b)\n",
    "        maximo[h] = b.max()\n",
    "        minimo[h] = b.min()"
   ]
  },
  {
   "cell_type": "code",
   "execution_count": 29,
   "id": "9246ddcf",
   "metadata": {
    "tags": [
     "hide-input"
    ]
   },
   "outputs": [
    {
     "data": {
      "text/plain": [
       "[<matplotlib.lines.Line2D at 0x7f3c109f9b70>]"
      ]
     },
     "execution_count": 29,
     "metadata": {},
     "output_type": "execute_result"
    },
    {
     "data": {
      "image/png": "[encoded data removed]",
      "text/plain": [
       "<Figure size 432x288 with 1 Axes>"
      ]
     },
     "metadata": {
      "needs_background": "light"
     },
     "output_type": "display_data"
    }
   ],
   "source": [
    "x = (0, np.pi)\n",
    "y = (0, np.pi)\n",
    "\n",
    "plt.plot(angreal, mediana, label='Mediana')\n",
    "plt.plot(angreal, angP, label='Média')\n",
    "plt.plot(angreal, minimo, label='Minimo')\n",
    "plt.plot(angreal, maximo, label='Máximo')\n",
    "plt.xlabel('Angulo analítico')\n",
    "plt.ylabel('Angulo calculado')\n",
    "plt.text(-0.05,2.2,'Raio = %.i' %raio)\n",
    "plt.text(-0.05,2,'d = %.i' %d)\n",
    "plt.text(-0.05,1.8,'n = %.i' %n)\n",
    "\n",
    "\n",
    "plt.title('Plano horizontal')\n",
    "#plt.title('Plano inclinado')\n",
    "#plt.title('Plano inclinado 2')\n",
    "\n",
    "\n",
    "plt.legend()\n",
    "plt.plot(x, y)"
   ]
  },
  {
   "cell_type": "code",
   "execution_count": null,
   "id": "e2e70f8e",
   "metadata": {},
   "outputs": [],
   "source": []
  }
 ],
 "metadata": {
  "celltoolbar": "Edit Metadata",
  "kernelspec": {
   "display_name": "Python 3 (ipykernel)",
   "language": "python",
   "name": "python3"
  },
  "language_info": {
   "codemirror_mode": {
    "name": "ipython",
    "version": 3
   },
   "file_extension": ".py",
   "mimetype": "text/x-python",
   "name": "python",
   "nbconvert_exporter": "python",
   "pygments_lexer": "ipython3",
   "version": "3.10.6"
  },
  "varInspector": {
   "cols": {
    "lenName": 16,
    "lenType": 16,
    "lenVar": 40
   },
   "kernels_config": {
    "python": {
     "delete_cmd_postfix": "",
     "delete_cmd_prefix": "del ",
     "library": "var_list.py",
     "varRefreshCmd": "print(var_dic_list())"
    },
    "r": {
     "delete_cmd_postfix": ") ",
     "delete_cmd_prefix": "rm(",
     "library": "var_list.r",
     "varRefreshCmd": "cat(var_dic_list()) "
    }
   },
   "types_to_exclude": [
    "module",
    "function",
    "builtin_function_or_method",
    "instance",
    "_Feature"
   ],
   "window_display": false
  }
 },
 "nbformat": 4,
 "nbformat_minor": 5
}
