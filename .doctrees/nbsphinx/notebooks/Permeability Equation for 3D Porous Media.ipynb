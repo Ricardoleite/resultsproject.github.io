{
 "cells": [
  {
   "cell_type": "markdown",
   "id": "7c0937d1",
   "metadata": {},
   "source": [
    "# Permeability Equation for 3D Porous Media"
   ]
  },
  {
   "cell_type": "markdown",
   "id": "66fec3d2",
   "metadata": {},
   "source": [
    "De acordo com a lei de Darcy:\n",
    "\n",
    "$Q=\\displaystyle\\frac{kA}{\\mu}\\frac{\\Delta P}{L}$\n",
    "\n",
    "Pela teoria do campo médio:\n",
    "\n",
    "$Q=\\overline{U}\\phi A$,\n",
    "\n",
    "substituindo na lei de Darcy \n",
    "\n",
    "$k=\\displaystyle\\frac{\\overline{U}\\phi\\mu}{\\Delta P/L}$\n",
    "\n",
    "De acordo com McCluere:\n",
    "$k=\\displaystyle\\frac{\\overline{U}\\phi^{2}\\mu}{\\Delta P/L}$"
   ]
  },
  {
   "cell_type": "markdown",
   "id": "44b75ecb",
   "metadata": {},
   "source": [
    "# Permeability 2D Channel"
   ]
  },
  {
   "cell_type": "markdown",
   "id": "e9984be8",
   "metadata": {},
   "source": [
    "Velocidade --> $u(y)=\\displaystyle\\frac{H^{2}}{2\\mu}\\left(\\displaystyle\\frac{\\partial p}{\\partial x}\\right)\\left[\\left(\\frac{y}{H}\\right)^{2}-\\left(\\frac{y}{H}\\right)\\right]$\n",
    "\n",
    "Velocidade Média --> $\\overline{U}=\\displaystyle\\frac{Q}{A}=-\\frac{1}{12\\mu}\\left(\\frac{\\partial p}{\\partial x}\\right)H^{2}$\n",
    "\n",
    "Permeabilidade --> $k=\\displaystyle\\frac{H^{2}}{12}$"
   ]
  },
  {
   "cell_type": "code",
   "execution_count": null,
   "id": "a54b0ee2",
   "metadata": {},
   "outputs": [],
   "source": []
  },
  {
   "cell_type": "code",
   "execution_count": null,
   "id": "2edd9786",
   "metadata": {},
   "outputs": [],
   "source": []
  },
  {
   "cell_type": "code",
   "execution_count": null,
   "id": "f33668c2",
   "metadata": {},
   "outputs": [],
   "source": []
  },
  {
   "cell_type": "code",
   "execution_count": null,
   "id": "0f5985a7",
   "metadata": {},
   "outputs": [],
   "source": []
  },
  {
   "cell_type": "code",
   "execution_count": null,
   "id": "70bfe30b",
   "metadata": {},
   "outputs": [],
   "source": []
  },
  {
   "cell_type": "code",
   "execution_count": null,
   "id": "61c2f314",
   "metadata": {},
   "outputs": [],
   "source": []
  }
 ],
 "metadata": {
  "kernelspec": {
   "display_name": "Python 3 (ipykernel)",
   "language": "python",
   "name": "python3"
  },
  "language_info": {
   "codemirror_mode": {
    "name": "ipython",
    "version": 3
   },
   "file_extension": ".py",
   "mimetype": "text/x-python",
   "name": "python",
   "nbconvert_exporter": "python",
   "pygments_lexer": "ipython3",
   "version": "3.10.6"
  },
  "varInspector": {
   "cols": {
    "lenName": 16,
    "lenType": 16,
    "lenVar": 40
   },
   "kernels_config": {
    "python": {
     "delete_cmd_postfix": "",
     "delete_cmd_prefix": "del ",
     "library": "var_list.py",
     "varRefreshCmd": "print(var_dic_list())"
    },
    "r": {
     "delete_cmd_postfix": ") ",
     "delete_cmd_prefix": "rm(",
     "library": "var_list.r",
     "varRefreshCmd": "cat(var_dic_list()) "
    }
   },
   "types_to_exclude": [
    "module",
    "function",
    "builtin_function_or_method",
    "instance",
    "_Feature"
   ],
   "window_display": false
  }
 },
 "nbformat": 4,
 "nbformat_minor": 5
}
