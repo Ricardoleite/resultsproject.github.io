{
 "cells": [
  {
   "cell_type": "markdown",
   "id": "1e9e217c",
   "metadata": {},
   "source": [
    "# Code Structure\n",
    "\n",
    "Acess link https://www.canva.com/design/DAFjxRmYGjQ/YXu_7lDRvhdepO3ngIsVNg/edit?utm_content=DAFjxRmYGjQ&utm_campaign=designshare&utm_medium=link2&utm_source=sharebutton\n",
    "\n",
    "## lbpm_permeability_simulator"
   ]
  },
  {
   "cell_type": "markdown",
   "id": "680b9b3e",
   "metadata": {},
   "source": [
    "<img src=\"All.png\" width=\"1200\" height=\"1000\"/>"
   ]
  },
  {
   "cell_type": "markdown",
   "id": "fe53e62a",
   "metadata": {},
   "source": [
    "### Level 1 and 2"
   ]
  },
  {
   "cell_type": "markdown",
   "id": "66ae5c6f",
   "metadata": {},
   "source": [
    "<img src=\"1e2.png\" width=\"1200\" height=\"300\"/>"
   ]
  },
  {
   "cell_type": "markdown",
   "id": "16fdd8b3",
   "metadata": {},
   "source": [
    "### Level 3"
   ]
  },
  {
   "cell_type": "markdown",
   "id": "8e1094ff",
   "metadata": {},
   "source": [
    "<img src=\"3.png\" width=\"1200\" height=\"300\"/>"
   ]
  },
  {
   "cell_type": "markdown",
   "id": "fda8c88f",
   "metadata": {},
   "source": []
  },
  {
   "cell_type": "markdown",
   "id": "0abc1fae",
   "metadata": {},
   "source": []
  }
 ],
 "metadata": {
  "kernelspec": {
   "display_name": "Python 3 (ipykernel)",
   "language": "python",
   "name": "python3"
  },
  "language_info": {
   "codemirror_mode": {
    "name": "ipython",
    "version": 3
   },
   "file_extension": ".py",
   "mimetype": "text/x-python",
   "name": "python",
   "nbconvert_exporter": "python",
   "pygments_lexer": "ipython3",
   "version": "3.10.6"
  },
  "varInspector": {
   "cols": {
    "lenName": 16,
    "lenType": 16,
    "lenVar": 40
   },
   "kernels_config": {
    "python": {
     "delete_cmd_postfix": "",
     "delete_cmd_prefix": "del ",
     "library": "var_list.py",
     "varRefreshCmd": "print(var_dic_list())"
    },
    "r": {
     "delete_cmd_postfix": ") ",
     "delete_cmd_prefix": "rm(",
     "library": "var_list.r",
     "varRefreshCmd": "cat(var_dic_list()) "
    }
   },
   "types_to_exclude": [
    "module",
    "function",
    "builtin_function_or_method",
    "instance",
    "_Feature"
   ],
   "window_display": false
  }
 },
 "nbformat": 4,
 "nbformat_minor": 5
}
